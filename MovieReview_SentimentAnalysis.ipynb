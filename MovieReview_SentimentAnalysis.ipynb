{
 "cells": [
  {
   "attachments": {},
   "cell_type": "markdown",
   "metadata": {},
   "source": [
    "## Sentiment Analysis"
   ]
  },
  {
   "attachments": {},
   "cell_type": "markdown",
   "metadata": {},
   "source": [
    "\n",
    "* Spliting the data into training and testing part using the `train_test_split` function so that the training set size is 75% of the whole data (set argument `random_state=2023` to make the result deterministic, and make sure the data is split in a stratified fashion)\n",
    "\n",
    "* Reporting and interpreting the result (accuracy score) on test set"
   ]
  },
  {
   "cell_type": "code",
   "execution_count": 4,
   "metadata": {},
   "outputs": [
    {
     "name": "stdout",
     "output_type": "stream",
     "text": [
      "Accuracy score on the test set: 0.90\n",
      "Data: I didnt like the actors of this movie\n",
      "Sentiment: negative\n",
      "Data: This movie showed great acting\n",
      "Sentiment: positive\n"
     ]
    }
   ],
   "source": [
    "\n",
    "\n",
    "import pandas as pd\n",
    "from sklearn.feature_extraction.text import TfidfVectorizer\n",
    "from sklearn.linear_model import LogisticRegression\n",
    "from sklearn.metrics import accuracy_score\n",
    "from sklearn.model_selection import train_test_split\n",
    "\n",
    "# Load the dataset\n",
    "dataset_path = \"/Users/shivanivellanki/Downloads/IMDB Dataset.csv\"\n",
    "df = pd.read_csv(dataset_path)\n",
    "\n",
    "# Split the data into training and testing sets\n",
    "X = df['review']  # Input features\n",
    "y = df['sentiment']  # Target variable\n",
    "\n",
    "X_train, X_test, y_train, y_test = train_test_split(X, y, test_size=0.25, stratify=y, random_state=2023)\n",
    "\n",
    "# Vectorize the text data\n",
    "vectorizer = TfidfVectorizer()\n",
    "X_train = vectorizer.fit_transform(X_train)\n",
    "X_test = vectorizer.transform(X_test)\n",
    "\n",
    "# Train a logistic regression model\n",
    "model = LogisticRegression(max_iter=1000)\n",
    "model.fit(X_train, y_train)\n",
    "\n",
    "# Make predictions on the test set\n",
    "y_pred = model.predict(X_test)\n",
    "\n",
    "# Calculate the accuracy score\n",
    "accuracy = accuracy_score(y_test, y_pred)\n",
    "print(\"Accuracy score on the test set: {:.2f}\".format(accuracy))\n",
    "\n",
    "\n",
    "# Make predictions on new data\n",
    "new_data = [\"I didnt like the actors of this movie\", \"This movie showed great acting\"]\n",
    "new_data_features = vectorizer.transform(new_data)  # Vectorize the new data using the same vectorizer\n",
    "\n",
    "# Predict the sentiment of the new data\n",
    "new_data_predictions = model.predict(new_data_features)\n",
    "\n",
    "# Print the predictions\n",
    "for data, prediction in zip(new_data, new_data_predictions):\n",
    "    print(\"Data: {}\\nSentiment: {}\".format(data, prediction))\n",
    "\n"
   ]
  },
  {
   "cell_type": "code",
   "execution_count": null,
   "metadata": {},
   "outputs": [],
   "source": [
    "# From the above result we can see the accuracy score is 0.9 which means the model can correctly identify if the review is 'positive'/'negative' 90% of the times.\n",
    "# This is a high degree of success. "
   ]
  },
  {
   "attachments": {},
   "cell_type": "markdown",
   "metadata": {},
   "source": [
    "\n",
    "* Trying to add cross-validation using the `RepeateKFold` function with 5 splits, 10 repeats, and 2023 as random state. \n",
    "* Reporting the result on both training and test set with average and the standard deviation of the accuracy score\n"
   ]
  },
  {
   "cell_type": "code",
   "execution_count": 5,
   "metadata": {},
   "outputs": [
    {
     "name": "stdout",
     "output_type": "stream",
     "text": [
      "Average accuracy score on training set: 0.93\n",
      "Standard deviation of accuracy score on training set: 0.00\n",
      "Average accuracy score on test set: 0.89\n",
      "Standard deviation of accuracy score on test set: 0.00\n",
      "The model is potentially overfitting the training data.\n"
     ]
    }
   ],
   "source": [
    "\n",
    "from sklearn.model_selection import train_test_split, RepeatedKFold\n",
    "from statistics import mean, stdev\n",
    "\n",
    "# Perform cross-validation\n",
    "rkf = RepeatedKFold(n_splits=5, n_repeats=10, random_state=2023)\n",
    "train_scores = []\n",
    "test_scores = []\n",
    "\n",
    "for train_index, val_index in rkf.split(X_train):\n",
    "    X_train_fold, X_val_fold = X_train[train_index], X_train[val_index]\n",
    "    y_train_fold, y_val_fold = y_train.iloc[train_index], y_train.iloc[val_index]\n",
    "\n",
    "    model.fit(X_train_fold, y_train_fold)\n",
    "\n",
    "    train_pred = model.predict(X_train_fold)\n",
    "    train_score = accuracy_score(y_train_fold, train_pred)\n",
    "    train_scores.append(train_score)\n",
    "\n",
    "    val_pred = model.predict(X_val_fold)\n",
    "    val_score = accuracy_score(y_val_fold, val_pred)\n",
    "    test_scores.append(val_score)\n",
    "\n",
    "# Calculate and print average and standard deviation of scores\n",
    "train_avg_score = mean(train_scores)\n",
    "train_std_dev = stdev(train_scores)\n",
    "print(\"Average accuracy score on training set: {:.2f}\".format(train_avg_score))\n",
    "print(\"Standard deviation of accuracy score on training set: {:.2f}\".format(train_std_dev))\n",
    "\n",
    "test_avg_score = mean(test_scores)\n",
    "test_std_dev = stdev(test_scores)\n",
    "print(\"Average accuracy score on test set: {:.2f}\".format(test_avg_score))\n",
    "print(\"Standard deviation of accuracy score on test set: {:.2f}\".format(test_std_dev))\n",
    "\n",
    "# Determine if the model is overfitting or underfitting\n",
    "if train_avg_score > test_avg_score:\n",
    "    print(\"The model is potentially overfitting the training data.\")\n",
    "elif train_avg_score < test_avg_score:\n",
    "    print(\"The model is potentially underfitting the training data.\")\n",
    "else:\n",
    "    print(\"The model is performing consistently on both the training and test data.\")\n"
   ]
  }
 ],
 "metadata": {
  "kernelspec": {
   "display_name": "Python 3",
   "language": "python",
   "name": "python3"
  },
  "language_info": {
   "codemirror_mode": {
    "name": "ipython",
    "version": 3
   },
   "file_extension": ".py",
   "mimetype": "text/x-python",
   "name": "python",
   "nbconvert_exporter": "python",
   "pygments_lexer": "ipython3",
   "version": "3.11.3"
  }
 },
 "nbformat": 4,
 "nbformat_minor": 4
}
